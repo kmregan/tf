{
 "cells": [
  {
   "cell_type": "markdown",
   "metadata": {},
   "source": [
    "This notebook implements logistic regression with two variables using a dataset from Andrew Ng's ML coursera course: Exercise 2. "
   ]
  },
  {
   "cell_type": "code",
   "execution_count": 9,
   "metadata": {
    "collapsed": false
   },
   "outputs": [],
   "source": [
    "%matplotlib inline\n",
    "\n",
    "import tensorflow as tf\n",
    "import numpy as np\n",
    "import matplotlib.pyplot as plt"
   ]
  },
  {
   "cell_type": "code",
   "execution_count": 3,
   "metadata": {
    "collapsed": true
   },
   "outputs": [],
   "source": [
    "DATA_PATH = 'data/coursera_ml/ex2data1.txt'\n",
    "ALPHA = 0.01  # regularization constant\n",
    "CLASSIFICATION_THRESHOLD = 0.5"
   ]
  },
  {
   "cell_type": "markdown",
   "metadata": {},
   "source": [
    "Read data from a file, and normalized the features."
   ]
  },
  {
   "cell_type": "code",
   "execution_count": 4,
   "metadata": {
    "collapsed": true
   },
   "outputs": [],
   "source": [
    "data = np.array([ l.rstrip().split(',') for l in open(DATA_PATH)], dtype=np.float32)\n",
    "\n",
    "def normalize(data):\n",
    "    mean = np.mean(data, 0)\n",
    "    std = np.std(data, 0)\n",
    "    return (data - mean) /  std\n",
    "\n",
    "train_features = data[:,:-1]\n",
    "train_labels = data[:,-1].reshape(-1,1)  # yields column vector\n",
    "\n",
    "scaled_train_features = normalize(train_features)"
   ]
  },
  {
   "cell_type": "markdown",
   "metadata": {},
   "source": [
    "Construct model for logistic regression where $\\Pr(y=1\\;|\\;x,w,b) = h_{w,b}(x) = \\textrm{sigmoid}(x^{\\top}w + b)$.\n",
    "\n",
    "We use the regularized loss function: $-\\frac{1}{M}\\Sigma \\bigl[ Y \\log(h_{w,b}(x)) + (1-h_{w,b}(x))\\log(1-\\hat{Y}) \\bigr] + \\alpha \\Sigma w^2$.  Where $\\alpha$ is the regularization constant, and M is the number of training examples.\n",
    "\n",
    "We classify an input as true when $\\Pr(y=1\\;|\\;x,w,b) > 0.5$ and we assess the accuracy of our model as percentage of instances in which the model classification matches the labeled classification."
   ]
  },
  {
   "cell_type": "code",
   "execution_count": 5,
   "metadata": {
    "collapsed": true
   },
   "outputs": [],
   "source": [
    "with tf.name_scope('model'):\n",
    "    X = scaled_train_features\n",
    "    #X = tf.placeholder(tf.float32, shape=(None, num_features))\n",
    "    Y = train_labels\n",
    "    #Y = tf.placeholder(tf.float32, shape=(None, 1))\n",
    "    w = tf.Variable(tf.zeros([2,1]), name='weights')\n",
    "    b = tf.Variable(tf.zeros([1]), name='bias')\n",
    "    prediction = tf.sigmoid(tf.matmul(X, w) + b)\n",
    "\n",
    "with tf.name_scope('training'):\n",
    "    loss = ( -tf.reduce_mean(Y * tf.log(prediction) + \n",
    "                            (1-Y) * tf.log(1-prediction)) +\n",
    "              tf.reduce_sum(tf.square(w)) * ALPHA)\n",
    "    training_op = tf.train.AdamOptimizer().minimize(loss)\n",
    "\n",
    "with tf.name_scope('eval'):\n",
    "    classification = tf.cast(prediction > CLASSIFICATION_THRESHOLD, tf.float32)\n",
    "    correct_classification = tf.equal(classification, Y)\n",
    "    accuracy = tf.reduce_mean(tf.cast(correct_classification, tf.float32))"
   ]
  },
  {
   "cell_type": "code",
   "execution_count": null,
   "metadata": {
    "collapsed": true
   },
   "outputs": [],
   "source": []
  },
  {
   "cell_type": "code",
   "execution_count": 29,
   "metadata": {
    "collapsed": false
   },
   "outputs": [
    {
     "name": "stdout",
     "output_type": "stream",
     "text": [
      "After 4999 steps, we have a loss of 0.318137 and an accuracy of 0.890000.\n"
     ]
    }
   ],
   "source": [
    "init = tf.initialize_all_variables()\n",
    "sess = tf.Session()\n",
    "sess.run(init)\n",
    "\n",
    "for step in xrange(5000):\n",
    "    sess.run(training_op)\n",
    "print 'After %d steps, we have a loss of %f and an accuracy of %f.' % (step, sess.run(loss), sess.run(accuracy))"
   ]
  },
  {
   "cell_type": "markdown",
   "metadata": {},
   "source": [
    "Below we plot our data with the decision boundry: $X^\\top w > 0$."
   ]
  },
  {
   "cell_type": "code",
   "execution_count": 27,
   "metadata": {
    "collapsed": false
   },
   "outputs": [
    {
     "data": {
      "text/plain": [
       "[<matplotlib.lines.Line2D at 0x11549cb50>]"
      ]
     },
     "execution_count": 27,
     "metadata": {},
     "output_type": "execute_result"
    },
    {
     "data": {
      "image/png": "[encoded data removed]",
      "text/plain": [
       "<matplotlib.figure.Figure at 0x115f68350>"
      ]
     },
     "metadata": {},
     "output_type": "display_data"
    }
   ],
   "source": [
    "wt, bt = sess.run(w), sess.run(b)\n",
    "min_x = min(scaled_train_features[:,0]) - 0.1\n",
    "max_x = max(scaled_train_features[:,0]) + 0.1\n",
    "x_true = [xi for i,xi in enumerate(scaled_train_features[:,0]) if train_labels[i]]\n",
    "y_true = [yi for i,yi in enumerate(scaled_train_features[:,1]) if train_labels[i]]\n",
    "x_false = [xi for i,xi in enumerate(scaled_train_features[:,0]) if not train_labels[i]]\n",
    "y_false = [yi for i,yi in enumerate(scaled_train_features[:,1]) if not train_labels[i]]\n",
    "plt.scatter(x_true, y_true, marker='o')\n",
    "plt.scatter(x_false, y_false, marker='x')\n",
    "x_db = np.linspace(min_x, max_x, 10)\n",
    "y_db = -(wt[0] * x_db + bt) / wt[1]\n",
    "plt.xlim((min_x,max_x))\n",
    "plt.plot(x_db, y_db, 'g')"
   ]
  },
  {
   "cell_type": "code",
   "execution_count": null,
   "metadata": {
    "collapsed": true
   },
   "outputs": [],
   "source": []
  }
 ],
 "metadata": {
  "kernelspec": {
   "display_name": "Python 2",
   "language": "python",
   "name": "python2"
  },
  "language_info": {
   "codemirror_mode": {
    "name": "ipython",
    "version": 2
   },
   "file_extension": ".py",
   "mimetype": "text/x-python",
   "name": "python",
   "nbconvert_exporter": "python",
   "pygments_lexer": "ipython2",
   "version": "2.7.9"
  }
 },
 "nbformat": 4,
 "nbformat_minor": 0
}
